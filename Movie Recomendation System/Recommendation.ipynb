{
  "nbformat": 4,
  "nbformat_minor": 0,
  "metadata": {
    "colab": {
      "provenance": []
    },
    "kernelspec": {
      "name": "python3",
      "display_name": "Python 3"
    },
    "language_info": {
      "name": "python"
    }
  },
  "cells": [
    {
      "cell_type": "markdown",
      "source": [
        "###Import necessary libraries"
      ],
      "metadata": {
        "id": "pVnQpbqCuW_b"
      }
    },
    {
      "cell_type": "code",
      "source": [
        "import pandas as pd\n",
        "import numpy as np\n",
        "import ast\n",
        "from sklearn.feature_extraction.text import CountVectorizer\n",
        "from sklearn.metrics.pairwise import cosine_similarity\n",
        "import pickle"
      ],
      "metadata": {
        "id": "N8IJNAObubz1"
      },
      "execution_count": null,
      "outputs": []
    },
    {
      "cell_type": "code",
      "source": [
        "movies = pd.read_csv('tmdb_5000_movies.csv')\n",
        "credits = pd.read_csv('tmdb_5000_credits.csv')"
      ],
      "metadata": {
        "id": "Nx2mLk9FuhEc"
      },
      "execution_count": null,
      "outputs": []
    },
    {
      "cell_type": "code",
      "source": [
        "movies.head(2)"
      ],
      "metadata": {
        "id": "0uIj6SkOui9N"
      },
      "execution_count": null,
      "outputs": []
    },
    {
      "cell_type": "code",
      "source": [
        "movies.shape"
      ],
      "metadata": {
        "id": "PaxILcBjuknE"
      },
      "execution_count": null,
      "outputs": []
    },
    {
      "cell_type": "code",
      "source": [
        "credits.head(2)"
      ],
      "metadata": {
        "id": "eAoU6h6tuoPM"
      },
      "execution_count": null,
      "outputs": []
    },
    {
      "cell_type": "code",
      "source": [
        "movies = movies.merge(credits, on=\"title\")"
      ],
      "metadata": {
        "id": "abyGcl2DupM2"
      },
      "execution_count": null,
      "outputs": []
    },
    {
      "cell_type": "code",
      "source": [
        "movies.head(2)"
      ],
      "metadata": {
        "id": "0NGmh2l-usHc"
      },
      "execution_count": null,
      "outputs": []
    },
    {
      "cell_type": "code",
      "source": [
        "movies.info()"
      ],
      "metadata": {
        "id": "Y_sZUYXvuves"
      },
      "execution_count": null,
      "outputs": []
    },
    {
      "cell_type": "markdown",
      "source": [
        "###Taking column for recomendation\n",
        "* 'movie_id',\n",
        "* 'title',\n",
        "* 'overview',\n",
        "* 'genres','keywords',\n",
        "* 'cast',\n",
        "* 'crew'"
      ],
      "metadata": {
        "id": "4Qq0vBHLuvbl"
      }
    },
    {
      "cell_type": "code",
      "source": [
        "movies = movies[['movie_id','title','overview','genres','keywords','cast','crew']]"
      ],
      "metadata": {
        "id": "JM74GbxfuvYV"
      },
      "execution_count": null,
      "outputs": []
    },
    {
      "cell_type": "markdown",
      "source": [
        "###Create a helper function to convert unorganised dict to a organised list"
      ],
      "metadata": {
        "id": "cakGDkKFuvQ1"
      }
    },
    {
      "cell_type": "code",
      "source": [
        "def converter(gen):\n",
        "    L = []\n",
        "    for genres in ast.literal_eval(gen):\n",
        "        L.append(genres['name'])\n",
        "    return L"
      ],
      "metadata": {
        "id": "G51m5m8puvN8"
      },
      "execution_count": null,
      "outputs": []
    },
    {
      "cell_type": "code",
      "source": [
        "movies[\"genres\"] = movies['genres'].apply(converter)"
      ],
      "metadata": {
        "id": "KnUZIbyMuu_8"
      },
      "execution_count": null,
      "outputs": []
    },
    {
      "cell_type": "code",
      "source": [
        "movies.head(2)movies['keywords'][0]"
      ],
      "metadata": {
        "id": "SZTMyg-Juuqs"
      },
      "execution_count": null,
      "outputs": []
    },
    {
      "cell_type": "code",
      "source": [
        "movies['keywords'] = movies['keywords'].apply(converter)"
      ],
      "metadata": {
        "id": "MioROtoJvKSM"
      },
      "execution_count": null,
      "outputs": []
    },
    {
      "cell_type": "code",
      "source": [
        "movies.head(2)"
      ],
      "metadata": {
        "id": "lE08xHGHvKPT"
      },
      "execution_count": null,
      "outputs": []
    },
    {
      "cell_type": "markdown",
      "source": [
        "###Take first 3 name from cast column"
      ],
      "metadata": {
        "id": "SbRv4kh0vKJU"
      }
    },
    {
      "cell_type": "code",
      "source": [
        "def converter2(text):\n",
        "    L = []\n",
        "    counter = 0\n",
        "    for i in ast.literal_eval(text):\n",
        "        if counter != 3:\n",
        "            L.append(i['name'])\n",
        "            counter += 1\n",
        "        else:\n",
        "            break\n",
        "    return L"
      ],
      "metadata": {
        "id": "1V9-vRiwvKGE"
      },
      "execution_count": null,
      "outputs": []
    },
    {
      "cell_type": "code",
      "source": [
        "movies['cast'][0]"
      ],
      "metadata": {
        "id": "ET8N-u8HvSsc"
      },
      "execution_count": null,
      "outputs": []
    },
    {
      "cell_type": "code",
      "source": [
        "movies['cast'] = movies['cast'].apply(converter2)"
      ],
      "metadata": {
        "id": "Qs8tqY34vKDV"
      },
      "execution_count": null,
      "outputs": []
    },
    {
      "cell_type": "code",
      "source": [
        "movies.head(2)"
      ],
      "metadata": {
        "id": "-EfkwwMhvKAF"
      },
      "execution_count": null,
      "outputs": []
    },
    {
      "cell_type": "code",
      "source": [
        "movies['cast'][0]"
      ],
      "metadata": {
        "id": "7Y1I7b0qvJ7k"
      },
      "execution_count": null,
      "outputs": []
    },
    {
      "cell_type": "code",
      "source": [
        "movies['crew'][0]"
      ],
      "metadata": {
        "id": "5coe0cHQvJ4N"
      },
      "execution_count": null,
      "outputs": []
    },
    {
      "cell_type": "code",
      "source": [
        "def find_director(text):\n",
        "    L = []\n",
        "    for i in ast.literal_eval(text):\n",
        "        if i['job'] == \"Director\":\n",
        "            L.append(i['name'])\n",
        "    return L"
      ],
      "metadata": {
        "id": "d65HTeiWvJ1E"
      },
      "execution_count": null,
      "outputs": []
    },
    {
      "cell_type": "code",
      "source": [
        "movies['crew'] = movies['crew'].apply(find_director)"
      ],
      "metadata": {
        "id": "N0kbMvxTvJx8"
      },
      "execution_count": null,
      "outputs": []
    },
    {
      "cell_type": "code",
      "source": [
        "movies.head(2)"
      ],
      "metadata": {
        "id": "QPC1uEREvJtE"
      },
      "execution_count": null,
      "outputs": []
    },
    {
      "cell_type": "markdown",
      "source": [
        "###Remove extra space from list word"
      ],
      "metadata": {
        "id": "ZCyLEP-PvJqk"
      }
    },
    {
      "cell_type": "code",
      "source": [
        "def remove_space(text):\n",
        "    L1 = []\n",
        "    for i in text:\n",
        "        L1.append(i.replace(\" \", \"\"))\n",
        "    return L1\n",
        ""
      ],
      "metadata": {
        "id": "bvy0-cLzvJi8"
      },
      "execution_count": null,
      "outputs": []
    },
    {
      "cell_type": "code",
      "source": [
        "movies['cast'] = movies['cast'].apply(remove_space)\n",
        "movies['genres'] = movies['genres'].apply(remove_space)\n",
        "movies['keywords'] = movies['keywords'].apply(remove_space)\n",
        "movies['crew'] = movies['crew'].apply(remove_space)"
      ],
      "metadata": {
        "id": "UIsJ1bTGvoBE"
      },
      "execution_count": null,
      "outputs": []
    },
    {
      "cell_type": "code",
      "source": [
        "movies.head(2)"
      ],
      "metadata": {
        "id": "-RHAi4D6vn98"
      },
      "execution_count": null,
      "outputs": []
    },
    {
      "cell_type": "code",
      "source": [
        "movies['overview'] = movies['overview'].fillna('')  # Replace NaN with empty string"
      ],
      "metadata": {
        "id": "jof66rJ1vn7E"
      },
      "execution_count": null,
      "outputs": []
    },
    {
      "cell_type": "code",
      "source": [
        "movies['overview'] = movies['overview'].apply(lambda x:x.split()) #Spliting overview to single word"
      ],
      "metadata": {
        "id": "mkp0-DG2vn4T"
      },
      "execution_count": null,
      "outputs": []
    },
    {
      "cell_type": "code",
      "source": [
        "# merge all column except movie_id and title and put it to tags column\n",
        "movies['tags'] = movies['overview'] + movies['genres'] + movies['keywords'] + movies['cast'] + movies['crew']"
      ],
      "metadata": {
        "id": "KS_2EpjYvn1d"
      },
      "execution_count": null,
      "outputs": []
    },
    {
      "cell_type": "code",
      "source": [
        "movies.head(2)"
      ],
      "metadata": {
        "id": "BwxiJXgTvnyk"
      },
      "execution_count": null,
      "outputs": []
    },
    {
      "cell_type": "code",
      "source": [
        "#remove merge column\n",
        "movies = movies.drop(columns=['overview','genres','keywords','cast','crew'])"
      ],
      "metadata": {
        "id": "tiBNerdcvzc1"
      },
      "execution_count": null,
      "outputs": []
    },
    {
      "cell_type": "code",
      "source": [
        "movies.head(2)"
      ],
      "metadata": {
        "id": "25HqYG73vnvm"
      },
      "execution_count": null,
      "outputs": []
    },
    {
      "cell_type": "code",
      "source": [
        "# In tags column remove all comma joint all together to create a paragraph\n",
        "movies[\"tags\"] = movies['tags'].apply(lambda x : \" \".join(x))\n"
      ],
      "metadata": {
        "id": "mCv_KAqwvnsU"
      },
      "execution_count": null,
      "outputs": []
    },
    {
      "cell_type": "code",
      "source": [
        "movies.head(2)"
      ],
      "metadata": {
        "id": "Ni_Tdhhev3sV"
      },
      "execution_count": null,
      "outputs": []
    },
    {
      "cell_type": "code",
      "source": [
        "movies[\"tags\"] = movies['tags'].apply(lambda x : x.lower()) # take all latter in lower case"
      ],
      "metadata": {
        "id": "JciSrOD3v3nU"
      },
      "execution_count": null,
      "outputs": []
    },
    {
      "cell_type": "code",
      "source": [
        "movies.head(2)"
      ],
      "metadata": {
        "id": "3dj9wtswv3is"
      },
      "execution_count": null,
      "outputs": []
    },
    {
      "cell_type": "markdown",
      "source": [
        "###remove same type worb from list"
      ],
      "metadata": {
        "id": "IXr7lrTcv3f0"
      }
    },
    {
      "cell_type": "code",
      "source": [
        "remove same type worb from list"
      ],
      "metadata": {
        "id": "O8O5bZvkv3at"
      },
      "execution_count": null,
      "outputs": []
    },
    {
      "cell_type": "code",
      "source": [
        "def stem(text):\n",
        "    y = []\n",
        "    for i in text.split():\n",
        "        y.append(ps.stem(i))\n",
        "    return \" \".join(y)"
      ],
      "metadata": {
        "id": "H0O8rqpov3Xs"
      },
      "execution_count": null,
      "outputs": []
    },
    {
      "cell_type": "code",
      "source": [
        "movies['tags'] = movies['tags'].apply(stem)"
      ],
      "metadata": {
        "id": "lM3NJ8WBv3U0"
      },
      "execution_count": null,
      "outputs": []
    },
    {
      "cell_type": "code",
      "source": [
        "movies.head(2)"
      ],
      "metadata": {
        "id": "eyf5lkvNv3SF"
      },
      "execution_count": null,
      "outputs": []
    },
    {
      "cell_type": "code",
      "source": [
        "cv = CountVectorizer(max_features=5000,stop_words='english')"
      ],
      "metadata": {
        "id": "LAtY52h7v3O-"
      },
      "execution_count": null,
      "outputs": []
    },
    {
      "cell_type": "code",
      "source": [
        "vector = cv.fit_transform(movies['tags']).toarray()"
      ],
      "metadata": {
        "id": "nwuREDI9v3L8"
      },
      "execution_count": null,
      "outputs": []
    },
    {
      "cell_type": "code",
      "source": [
        "vector.shape"
      ],
      "metadata": {
        "id": "DQlbO-v4wXP0"
      },
      "execution_count": null,
      "outputs": []
    },
    {
      "cell_type": "code",
      "source": [
        "cv.get_feature_names_out()"
      ],
      "metadata": {
        "id": "MZiYbCRpwXLc"
      },
      "execution_count": null,
      "outputs": []
    },
    {
      "cell_type": "code",
      "source": [
        "features = cv.get_feature_names_out()\n",
        "print(list(features))"
      ],
      "metadata": {
        "id": "CZxj_sdZwXIl"
      },
      "execution_count": null,
      "outputs": []
    },
    {
      "cell_type": "code",
      "source": [
        "similarity = cosine_similarity(vector)"
      ],
      "metadata": {
        "id": "TaluzYNYwXFs"
      },
      "execution_count": null,
      "outputs": []
    },
    {
      "cell_type": "code",
      "source": [
        "similarity[0]"
      ],
      "metadata": {
        "id": "52PGR4wzwXCc"
      },
      "execution_count": null,
      "outputs": []
    },
    {
      "cell_type": "code",
      "source": [
        "movies[movies['title'] == 'Avatar'].index[0]"
      ],
      "metadata": {
        "id": "pSLDPanTwW8M"
      },
      "execution_count": null,
      "outputs": []
    },
    {
      "cell_type": "code",
      "source": [
        "#create a function for recomendation\n",
        "def recommendation(movie):\n",
        "    movie_index = movies[movies['title'] == movie].index[0]\n",
        "    movie_list = sorted(list(enumerate(similarity[movie_index])), reverse=True, key = lambda x : x[1])[1:6]\n",
        "    for i in movie_list:\n",
        "        print(movies.iloc[i[0]].title)\n",
        "\n",
        ""
      ],
      "metadata": {
        "id": "7pSgDVYfwj-k"
      },
      "execution_count": null,
      "outputs": []
    },
    {
      "cell_type": "code",
      "source": [
        "recommendation(\"Avatar\")"
      ],
      "metadata": {
        "id": "wnh1B3gHwjpU"
      },
      "execution_count": null,
      "outputs": []
    },
    {
      "cell_type": "code",
      "source": [
        "pickle.dump(movies.to_dict(), open(\"movie_dict.pkl\", 'wb'))\n"
      ],
      "metadata": {
        "id": "C5feIvqOwjmT"
      },
      "execution_count": null,
      "outputs": []
    },
    {
      "cell_type": "code",
      "source": [
        "pickle.dump(similarity, open(\"similarity.pkl\", \"wb\"))"
      ],
      "metadata": {
        "id": "cpPCcgNiwjjN"
      },
      "execution_count": null,
      "outputs": []
    }
  ]
}